{
 "cells": [
  {
   "cell_type": "code",
   "execution_count": 8,
   "id": "956758e9-56a4-4a5c-94b6-72ee84f3b4a1",
   "metadata": {},
   "outputs": [],
   "source": [
    "import pandas as pd\n",
    "import numpy as np\n",
    "import spacy\n",
    "from sklearn.model_selection import train_test_split\n",
    "from sklearn.metrics import classification_report\n",
    "from tensorflow.keras.preprocessing.text import Tokenizer\n",
    "from tensorflow.keras.preprocessing.sequence import pad_sequences\n",
    "from tensorflow.keras.models import Sequential\n",
    "from tensorflow.keras.layers import Embedding, LSTM, Dense"
   ]
  },
  {
   "cell_type": "code",
   "execution_count": 9,
   "id": "ef6389b8-7196-4e78-aad4-124344434628",
   "metadata": {},
   "outputs": [],
   "source": [
    "# Load the dataset\n",
    "data = pd.read_csv('../Data/lab4_train.csv')\n",
    "\n",
    "# Drop the 'conflict' polarity class\n",
    "data = data[data['polarity'] != 'conflict']\n",
    "\n",
    "# Tokenize text data\n",
    "tokenizer = Tokenizer(num_words=100000)  # Maximum words to keep based on frequency\n",
    "tokenizer.fit_on_texts(data['text'])\n",
    "sequences = tokenizer.texts_to_sequences(data['text'])\n",
    "\n",
    "# Pad sequences to a maximum length\n",
    "maxlen = 100  # Define the maximum sequence length\n",
    "X = pad_sequences(sequences, maxlen=maxlen)\n",
    "\n",
    "# Convert target labels to one-hot encoded format if needed\n",
    "y = pd.get_dummies(data['polarity'])\n",
    "\n",
    "# Split the data into training and testing sets\n",
    "X_train, X_test, y_train, y_test = train_test_split(X, y, test_size=0.2, random_state=42)"
   ]
  },
  {
   "cell_type": "code",
   "execution_count": 10,
   "id": "6d97c338-f2e9-4518-b421-c70ab696f242",
   "metadata": {},
   "outputs": [
    {
     "name": "stderr",
     "output_type": "stream",
     "text": [
      "C:\\Users\\gayad\\anaconda3\\Lib\\site-packages\\keras\\src\\layers\\core\\embedding.py:89: UserWarning: Do not pass an `input_shape`/`input_dim` argument to a layer. When using Sequential models, prefer using an `Input(shape)` object as the first layer in the model instead.\n",
      "  super().__init__(**kwargs)\n"
     ]
    }
   ],
   "source": [
    "# Define the LSTM model architecture\n",
    "model = Sequential()\n",
    "model.add(Embedding(input_dim=100000, output_dim=128, input_shape=(100,)))  \n",
    "model.add(LSTM(128))\n",
    "model.add(Dense(3, activation='softmax'))  \n",
    "\n",
    "# Compile the model\n",
    "model.compile(loss='categorical_crossentropy', optimizer='adam', metrics=['accuracy'])"
   ]
  },
  {
   "cell_type": "code",
   "execution_count": 11,
   "id": "e306eb20-893e-4be4-857e-30575b64b0e2",
   "metadata": {},
   "outputs": [
    {
     "name": "stdout",
     "output_type": "stream",
     "text": [
      "Epoch 1/5\n",
      "\u001b[1m75/75\u001b[0m \u001b[32m━━━━━━━━━━━━━━━━━━━━\u001b[0m\u001b[37m\u001b[0m \u001b[1m21s\u001b[0m 244ms/step - accuracy: 0.6158 - loss: 0.9489 - val_accuracy: 0.6171 - val_loss: 0.8097\n",
      "Epoch 2/5\n",
      "\u001b[1m75/75\u001b[0m \u001b[32m━━━━━━━━━━━━━━━━━━━━\u001b[0m\u001b[37m\u001b[0m \u001b[1m18s\u001b[0m 244ms/step - accuracy: 0.6837 - loss: 0.7008 - val_accuracy: 0.6823 - val_loss: 0.7113\n",
      "Epoch 3/5\n",
      "\u001b[1m75/75\u001b[0m \u001b[32m━━━━━━━━━━━━━━━━━━━━\u001b[0m\u001b[37m\u001b[0m \u001b[1m18s\u001b[0m 242ms/step - accuracy: 0.8464 - loss: 0.4071 - val_accuracy: 0.7040 - val_loss: 0.7281\n",
      "Epoch 4/5\n",
      "\u001b[1m75/75\u001b[0m \u001b[32m━━━━━━━━━━━━━━━━━━━━\u001b[0m\u001b[37m\u001b[0m \u001b[1m18s\u001b[0m 242ms/step - accuracy: 0.9157 - loss: 0.2597 - val_accuracy: 0.6973 - val_loss: 0.9181\n",
      "Epoch 5/5\n",
      "\u001b[1m75/75\u001b[0m \u001b[32m━━━━━━━━━━━━━━━━━━━━\u001b[0m\u001b[37m\u001b[0m \u001b[1m18s\u001b[0m 243ms/step - accuracy: 0.9239 - loss: 0.2134 - val_accuracy: 0.7157 - val_loss: 1.0170\n"
     ]
    },
    {
     "data": {
      "text/plain": [
       "<keras.src.callbacks.history.History at 0x20a78cd8550>"
      ]
     },
     "execution_count": 11,
     "metadata": {},
     "output_type": "execute_result"
    }
   ],
   "source": [
    "# Train the LSTM model\n",
    "model.fit(X_train, y_train, batch_size=32, epochs=5, validation_data=(X_test, y_test))"
   ]
  },
  {
   "cell_type": "code",
   "execution_count": 12,
   "id": "80873c07-e66f-4155-bd6b-d655908f1753",
   "metadata": {},
   "outputs": [],
   "source": [
    "# Extract text data \n",
    "text_data = data['text'].tolist()\n",
    "\n",
    "# Function to extract potential aspects from text data using spaCy\n",
    "def extract_aspects_spacy(text_data):\n",
    "    aspects = []\n",
    "    for text in text_data:\n",
    "        doc = nlp(text)\n",
    "        text_aspects = [ent.text for ent in doc.ents if ent.label_ == 'NORP' or ent.label_ == 'PRODUCT']\n",
    "        aspects.append(text_aspects)\n",
    "    return aspects\n",
    "\n",
    "# Extract potential aspects using spaCy entity recognition\n",
    "aspects_spacy = extract_aspects_spacy(text_data)"
   ]
  },
  {
   "cell_type": "code",
   "execution_count": 13,
   "id": "199559e3-45e5-4773-bab4-3a460e914d9e",
   "metadata": {},
   "outputs": [],
   "source": [
    "# Define the aspects extracted using spaCy entity recognition\n",
    "aspects_spacy = [\n",
    "    ['service'],\n",
    "    ['food'],\n",
    "    ['anecdotes/miscellaneous'],\n",
    "    ['price'],\n",
    "    ['ambience']\n",
    "]\n",
    "\n",
    "# Function to identify descriptors associated with each aspect\n",
    "def identify_descriptors(aspects, text_data):\n",
    "    all_descriptors = []\n",
    "    for aspect_list in aspects:\n",
    "        aspect_descriptors = []\n",
    "        for aspect in aspect_list:\n",
    "            descriptors = set()\n",
    "            for text in text_data:\n",
    "                doc = nlp(text)\n",
    "                for token in doc:\n",
    "                    if token.text.lower() == aspect:\n",
    "                        for child in token.children:\n",
    "                            if child.dep_ in ['amod', 'advmod']:  # Consider adjectival modifiers and adverbial modifiers\n",
    "                                descriptors.add(child.text)\n",
    "            aspect_descriptors.append(list(descriptors))\n",
    "        all_descriptors.append(aspect_descriptors)\n",
    "    return all_descriptors\n",
    "\n",
    "# Identify descriptors associated with each aspect in your dataset\n",
    "aspect_descriptors = identify_descriptors(aspects_spacy, text_data)"
   ]
  },
  {
   "cell_type": "code",
   "execution_count": 14,
   "id": "683d4a55-fb13-480d-94c4-dbcf3d0e0c56",
   "metadata": {},
   "outputs": [
    {
     "name": "stdout",
     "output_type": "stream",
     "text": [
      "\u001b[1m1/1\u001b[0m \u001b[32m━━━━━━━━━━━━━━━━━━━━\u001b[0m\u001b[37m\u001b[0m \u001b[1m0s\u001b[0m 190ms/step\n"
     ]
    }
   ],
   "source": [
    "# Function to combine text data, aspects, and descriptors into a format suitable for input to the LSTM model\n",
    "def combine_data(text_data, aspects, aspect_descriptors):\n",
    "    combined_data = []\n",
    "    for i in range(min(len(text_data), len(aspects), len(aspect_descriptors))):\n",
    "        aspect_str = ' '.join(map(str, aspects[i]))\n",
    "        descriptor_str = ' '.join(map(str, aspect_descriptors[i]))\n",
    "        combined_instance = text_data[i] + ' ' + aspect_str + ' ' + descriptor_str\n",
    "        combined_data.append(combined_instance)\n",
    "    return combined_data\n",
    "\n",
    "# Combine text data, aspects, and descriptors\n",
    "combined_data = combine_data(text_data, aspects_spacy, aspect_descriptors)\n",
    "\n",
    "# Prepare input data for aspect sentiment prediction\n",
    "aspect_text_sequences = tokenizer.texts_to_sequences(combined_data)\n",
    "X_combined = pad_sequences(aspect_text_sequences, maxlen=maxlen)\n",
    "\n",
    "# Obtain sentiment predictions for each aspect using the trained LSTM model\n",
    "aspect_sentiments = model.predict(X_combined)\n",
    "\n",
    "# Extract Aspect Sentiments\n",
    "def analyze_aspect_sentiments(aspects, aspect_descriptors, aspect_sentiments):\n",
    "    aspect_sentiments_analysis = {}\n",
    "    for i, aspect_list in enumerate(aspects):\n",
    "        for j, aspect in enumerate(aspect_list):\n",
    "            descriptors = aspect_descriptors[i][j]\n",
    "            sentiment_scores = aspect_sentiments"
   ]
  },
  {
   "cell_type": "code",
   "execution_count": 15,
   "id": "bb0f591b-571a-4472-8645-e3f528614e82",
   "metadata": {},
   "outputs": [
    {
     "name": "stdout",
     "output_type": "stream",
     "text": [
      "\u001b[1m94/94\u001b[0m \u001b[32m━━━━━━━━━━━━━━━━━━━━\u001b[0m\u001b[37m\u001b[0m \u001b[1m1s\u001b[0m 14ms/step\n",
      "\u001b[1m19/19\u001b[0m \u001b[32m━━━━━━━━━━━━━━━━━━━━\u001b[0m\u001b[37m\u001b[0m \u001b[1m0s\u001b[0m 15ms/step - accuracy: 0.7186 - loss: 1.0393\n",
      "\n",
      "Model Accuracy on Test Set:\n",
      "Loss: 1.0170024633407593\n",
      "Accuracy: 0.7157190442085266\n"
     ]
    }
   ],
   "source": [
    "# Prepare input data for overall sentiment analysis\n",
    "overall_sequences = tokenizer.texts_to_sequences(text_data)\n",
    "X_overall = pad_sequences(overall_sequences, maxlen=maxlen)\n",
    "\n",
    "# Obtain overall sentiment predictions using the trained LSTM model\n",
    "overall_sentiments = model.predict(X_overall)\n",
    "\n",
    "# Evaluate the model on the test set\n",
    "loss, accuracy = model.evaluate(X_test, y_test)\n",
    "\n",
    "print(f\"Accuracy: {accuracy}\")"
   ]
  },
  {
   "cell_type": "code",
   "execution_count": 16,
   "id": "d7a6673b-3de4-4d91-91c7-633b7ea3c9a3",
   "metadata": {},
   "outputs": [
    {
     "name": "stdout",
     "output_type": "stream",
     "text": [
      "\u001b[1m19/19\u001b[0m \u001b[32m━━━━━━━━━━━━━━━━━━━━\u001b[0m\u001b[37m\u001b[0m \u001b[1m0s\u001b[0m 14ms/step\n",
      "Classification Report:\n",
      "              precision    recall  f1-score   support\n",
      "\n",
      "    negative       0.63      0.53      0.58       154\n",
      "     neutral       0.44      0.29      0.35        76\n",
      "    positive       0.78      0.88      0.82       368\n",
      "\n",
      "    accuracy                           0.72       598\n",
      "   macro avg       0.62      0.57      0.58       598\n",
      "weighted avg       0.70      0.72      0.70       598\n",
      "\n"
     ]
    }
   ],
   "source": [
    "# Convert one-hot encoded y_test back to categorical labels\n",
    "y_test_labels = [y.columns[np.argmax(label)] for label in y_test.to_numpy()]\n",
    "\n",
    "# Convert the model predictions to categorical labels\n",
    "y_pred_labels = [y.columns[np.argmax(pred)] for pred in model.predict(X_test)]\n",
    "\n",
    "# Create the classification report\n",
    "report = classification_report(y_test_labels, y_pred_labels)\n",
    "\n",
    "# Print the classification report\n",
    "print(\"Classification Report:\")\n",
    "print(report)"
   ]
  }
 ],
 "metadata": {
  "kernelspec": {
   "display_name": "Python 3 (ipykernel)",
   "language": "python",
   "name": "python3"
  },
  "language_info": {
   "codemirror_mode": {
    "name": "ipython",
    "version": 3
   },
   "file_extension": ".py",
   "mimetype": "text/x-python",
   "name": "python",
   "nbconvert_exporter": "python",
   "pygments_lexer": "ipython3",
   "version": "3.11.7"
  }
 },
 "nbformat": 4,
 "nbformat_minor": 5
}
